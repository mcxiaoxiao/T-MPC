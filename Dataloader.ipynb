{
 "cells": [
  {
   "cell_type": "code",
   "execution_count": 1,
   "id": "5d1e45ea-258c-4222-b9ef-05c57f30f20d",
   "metadata": {},
   "outputs": [],
   "source": [
    "import torch\n",
    "from torch.utils.data import Dataset, DataLoader\n",
    "import pandas as pd\n",
    "from power_plant_dataset import PowerPlantDataset"
   ]
  },
  {
   "cell_type": "code",
   "execution_count": 2,
   "id": "a138d8e1-5c52-4c0e-9066-c62491dfd6ba",
   "metadata": {},
   "outputs": [],
   "source": [
    "dataset = PowerPlantDataset(csv_file='fdcl/split/df_hdrm.csv')"
   ]
  },
  {
   "cell_type": "code",
   "execution_count": 3,
   "id": "0fe9d0d0-2a13-452a-89d3-4d6b236d7d57",
   "metadata": {},
   "outputs": [],
   "source": [
    "dataloader = DataLoader(dataset, batch_size=4, shuffle=True, num_workers=4)"
   ]
  },
  {
   "cell_type": "code",
   "execution_count": 7,
   "id": "224ee391-33f6-463f-9f58-a5e442f7c3e4",
   "metadata": {},
   "outputs": [
    {
     "name": "stdout",
     "output_type": "stream",
     "text": [
      "Batch 1: Features = torch.Size([4]), Labels = torch.Size([4])\n",
      "tensor([[1.0563e+04, 1.7009e+09],\n",
      "        [8.9540e+03, 1.7008e+09],\n",
      "        [8.4518e+03, 1.6996e+09],\n",
      "        [1.0879e+04, 1.7008e+09]])\n",
      "tensor([10563.0352,  8954.0107,  8451.7832, 10879.3057])\n",
      "tensor([11.8705, 13.0029, 13.2389, 11.2894])\n",
      "Batch 2: Features = torch.Size([4]), Labels = torch.Size([4])\n",
      "tensor([[1.2820e+04, 1.7039e+09],\n",
      "        [1.1840e+04, 1.6995e+09],\n",
      "        [9.8705e+03, 1.7008e+09],\n",
      "        [9.0975e+03, 1.7016e+09]])\n",
      "tensor([12819.7314, 11840.2617,  9870.4863,  9097.5264])\n",
      "tensor([11.3078, 10.6897, 12.2405, 13.0932])\n",
      "Batch 3: Features = torch.Size([4]), Labels = torch.Size([4])\n",
      "tensor([[1.2666e+04, 1.7031e+09],\n",
      "        [1.1745e+04, 1.7028e+09],\n",
      "        [1.1635e+04, 1.7034e+09],\n",
      "        [8.1321e+03, 1.7004e+09]])\n",
      "tensor([12666.4072, 11745.1250, 11635.2295,  8132.1172])\n",
      "tensor([11.6736, 12.4232, 12.1585, 13.3966])\n"
     ]
    }
   ],
   "source": [
    "# 设置您想要打印的批次数量\n",
    "num_batches_to_print = 3\n",
    "# 使用enumerate遍历DataLoader\n",
    "for batch_idx, (batch_features, batch_labels) in enumerate(dataloader):\n",
    "    # 打印当前批次的数据\n",
    "    print(f'Batch {batch_idx+1}: Features = {batch_features[:, 0].shape}, Labels = {batch_labels.shape}')\n",
    "    print(batch_features)\n",
    "    print(batch_features[:, 0])\n",
    "    print(batch_labels)\n",
    "    # 如果已经打印了足够的批次，则退出循环\n",
    "    if batch_idx + 1 >= num_batches_to_print:\n",
    "        break"
   ]
  }
 ],
 "metadata": {
  "kernelspec": {
   "display_name": "Python 3 (ipykernel)",
   "language": "python",
   "name": "python3"
  },
  "language_info": {
   "codemirror_mode": {
    "name": "ipython",
    "version": 3
   },
   "file_extension": ".py",
   "mimetype": "text/x-python",
   "name": "python",
   "nbconvert_exporter": "python",
   "pygments_lexer": "ipython3",
   "version": "3.10.13"
  }
 },
 "nbformat": 4,
 "nbformat_minor": 5
}
