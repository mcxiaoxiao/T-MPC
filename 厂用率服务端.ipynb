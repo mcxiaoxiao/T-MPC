{
 "cells": [
  {
   "cell_type": "code",
   "execution_count": 10,
   "id": "53864583-ae84-49a1-b4db-854bb9b3f049",
   "metadata": {
    "tags": []
   },
   "outputs": [
    {
     "name": "stdout",
     "output_type": "stream",
     "text": [
      "Predicted Mean: [[15.281016]]\n",
      "Predicted Std Dev: [[12.476927]]\n",
      "Confidence Interval: [[10.264625]] to [[20.29741]]\n"
     ]
    }
   ],
   "source": [
    "import torch\n",
    "import torch.nn as nn\n",
    "import os\n",
    "from torch.utils.data import Dataset, DataLoader\n",
    "from power_plant_dataset import PowerPlantDataset\n",
    "\n",
    "# 定义模型\n",
    "class PolynomialRegressor(nn.Module):\n",
    "    def __init__(self, degree):\n",
    "        super(PolynomialRegressor, self).__init__()\n",
    "        self.degree = degree\n",
    "        self.coefficients_mean = nn.Parameter(torch.randn(degree + 1))\n",
    "        self.coefficients_std = nn.Parameter(torch.randn(degree + 1))\n",
    "\n",
    "    def forward(self, x):\n",
    "        mean = sum(self.coefficients_mean[i] * x.pow(i) for i in range(self.degree + 1))\n",
    "        std = torch.exp(sum(self.coefficients_std[i] * x.pow(i) for i in range(self.degree + 1)))\n",
    "        return mean, std\n",
    "\n",
    "def predict_power_output(power_output, power_type):\n",
    "    # 置信区间配置\n",
    "    confidence_intervals = {\n",
    "        'fd': {'lower': 2.0, 'upper': 2.0},\n",
    "        'gf': {'lower': 1.5, 'upper': 2.5},\n",
    "        'hdrm': {'lower': 1.2, 'upper': 1.2},\n",
    "        'sdyg': {'lower': 0.5, 'upper': 1.0}\n",
    "    }\n",
    "    \n",
    "    # 数据和模型路径配置\n",
    "    dataset_file = f'fdcl/split/df_{power_type}.csv'\n",
    "    model_file = f'fdcl/{power_type}.pth'\n",
    "    \n",
    "    # 加载数据集\n",
    "    dataset = PowerPlantDataset(csv_file=dataset_file)\n",
    "    \n",
    "    # 初始化模型\n",
    "    model = PolynomialRegressor(degree=3)\n",
    "    \n",
    "    # 加载模型参数\n",
    "    if os.path.exists(model_file):\n",
    "        model.load_state_dict(torch.load(model_file))\n",
    "    else:\n",
    "        print(f\"模型参数文件 '{model_file}' 不存在.\")\n",
    "        return\n",
    "    \n",
    "    # 数据预处理\n",
    "    normalized_input = dataset.scaler_features.transform([[power_output]])\n",
    "    input_tensor = torch.from_numpy(normalized_input).float()\n",
    "    \n",
    "    # 进行预测\n",
    "    with torch.no_grad():\n",
    "        mean, std = model(input_tensor)\n",
    "    \n",
    "    # 逆归一化输出值\n",
    "    output_mean = mean.numpy()\n",
    "    output_std = std.numpy()\n",
    "    predicted_mean = dataset.scaler_labels.inverse_transform(output_mean.reshape(1, -1))\n",
    "    predicted_std = dataset.scaler_labels.inverse_transform(output_std.reshape(1, -1))\n",
    "    \n",
    "    # 计算置信区间\n",
    "    ci = confidence_intervals[power_type]\n",
    "    lower_bound = dataset.scaler_labels.inverse_transform((mean - ci['lower'] * std).numpy().reshape(1, -1))\n",
    "    upper_bound = dataset.scaler_labels.inverse_transform((mean + ci['upper'] * std).numpy().reshape(1, -1))\n",
    "    \n",
    "    print(f\"Predicted Mean: {predicted_mean}\")\n",
    "    print(f\"Predicted Std Dev: {predicted_std}\")\n",
    "    print(f\"Confidence Interval: {lower_bound} to {upper_bound}\")\n",
    "\n",
    "# 示例调用\n",
    "predict_power_output(1350.33, 'hdrm')\n"
   ]
  }
 ],
 "metadata": {
  "kernelspec": {
   "display_name": "Python 3 (ipykernel)",
   "language": "python",
   "name": "python3"
  },
  "language_info": {
   "codemirror_mode": {
    "name": "ipython",
    "version": 3
   },
   "file_extension": ".py",
   "mimetype": "text/x-python",
   "name": "python",
   "nbconvert_exporter": "python",
   "pygments_lexer": "ipython3",
   "version": "3.11.4"
  }
 },
 "nbformat": 4,
 "nbformat_minor": 5
}
