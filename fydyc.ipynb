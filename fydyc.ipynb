{
 "cells": [
  {
   "cell_type": "code",
   "execution_count": 19,
   "id": "f0154b52-2a18-49fa-b2f4-30de98e4b800",
   "metadata": {},
   "outputs": [],
   "source": [
    "import torch\n",
    "from torch.utils.data import Dataset, DataLoader\n",
    "from fydyc_dataset import FydycDataset\n",
    "import os\n",
    "\n",
    "dataset = FydycDataset(csv_file='fydyc/风力.csv')\n",
    "train_size = int(0.9 * len(dataset))\n",
    "valid_size = len(dataset) - train_size\n",
    "train_dataset, valid_dataset = torch.utils.data.random_split(dataset, [train_size, valid_size])\n",
    "train_dataloader = DataLoader(train_dataset, batch_size=10000, shuffle=True, num_workers=2)\n",
    "valid_dataloader = DataLoader(valid_dataset, batch_size=10000, shuffle=True, num_workers=2)"
   ]
  },
  {
   "cell_type": "code",
   "execution_count": 4,
   "id": "4290400f-6059-4d37-a745-d8d2f058b08a",
   "metadata": {},
   "outputs": [
    {
     "name": "stdout",
     "output_type": "stream",
     "text": [
      "tensor([[-2.1304],\n",
      "        [-9.0974]], grad_fn=<AddmmBackward0>)\n"
     ]
    }
   ],
   "source": [
    "import torch\n",
    "import torch.nn as nn\n",
    "\n",
    "class PolynomialRegression(nn.Module):\n",
    "    def __init__(self, degree):\n",
    "        super(PolynomialRegression, self).__init__()\n",
    "        self.degree = degree\n",
    "        # 计算两个变量的多项式特征数量（包括交叉项和常数项）\n",
    "        num_features = (degree + 1) * (degree + 2) // 2\n",
    "        self.linear = nn.Linear(num_features, 1)\n",
    "    \n",
    "    def forward(self, x):\n",
    "        # x应该是一个二维张量，其中x[:, 0]是x1，x[:, 1]是x2\n",
    "        poly_features = []\n",
    "        for i in range(self.degree + 1):\n",
    "            for j in range(self.degree + 1 - i):\n",
    "                # 通过使用unsqueeze方法增加一个维度，确保每个特征都是二维的\n",
    "                poly_feature = (x[:, 0] ** i * x[:, 1] ** j).unsqueeze(1)\n",
    "                poly_features.append(poly_feature)\n",
    "        poly_features = torch.cat(poly_features, dim=1)\n",
    "        return self.linear(poly_features)\n",
    "\n",
    "# 示例使用\n",
    "degree = 2  # 举例使用二次多项式\n",
    "model = PolynomialRegression(degree)\n",
    "\n",
    "# 假设我们有一些输入数据x，其中包含两个特征\n",
    "x = torch.tensor([[1.0, 2.0], [3.0, 4.0]], requires_grad=True)\n",
    "\n",
    "# 获取模型的预测结果\n",
    "output = model(x)\n",
    "print(output)\n"
   ]
  },
  {
   "cell_type": "code",
   "execution_count": 5,
   "id": "43f9fd56-9529-473a-af67-7adef44e1acf",
   "metadata": {},
   "outputs": [
    {
     "name": "stderr",
     "output_type": "stream",
     "text": [
      " 10%|████▍                                       | 1/10 [00:37<05:40, 37.81s/it]"
     ]
    },
    {
     "name": "stdout",
     "output_type": "stream",
     "text": [
      "Train loss at epoch 0: 0.7009741266568502\n",
      "Valid loss at epoch 0: 0.7046554684638977\n"
     ]
    },
    {
     "name": "stderr",
     "output_type": "stream",
     "text": [
      " 20%|████████▊                                   | 2/10 [01:13<04:53, 36.64s/it]"
     ]
    },
    {
     "name": "stdout",
     "output_type": "stream",
     "text": [
      "Train loss at epoch 1: 0.6855266491572062\n",
      "Valid loss at epoch 1: 0.6864597797393799\n"
     ]
    },
    {
     "name": "stderr",
     "output_type": "stream",
     "text": [
      " 30%|█████████████▏                              | 3/10 [01:45<04:02, 34.62s/it]"
     ]
    },
    {
     "name": "stdout",
     "output_type": "stream",
     "text": [
      "Train loss at epoch 2: 0.6760692000389099\n",
      "Valid loss at epoch 2: 0.6685358285903931\n"
     ]
    },
    {
     "name": "stderr",
     "output_type": "stream",
     "text": [
      " 40%|█████████████████▌                          | 4/10 [02:18<03:23, 33.92s/it]"
     ]
    },
    {
     "name": "stdout",
     "output_type": "stream",
     "text": [
      "Train loss at epoch 3: 0.6502597530682882\n",
      "Valid loss at epoch 3: 0.6508997082710266\n"
     ]
    },
    {
     "name": "stderr",
     "output_type": "stream",
     "text": [
      " 50%|██████████████████████                      | 5/10 [02:52<02:49, 33.83s/it]"
     ]
    },
    {
     "name": "stdout",
     "output_type": "stream",
     "text": [
      "Train loss at epoch 4: 0.6412186423937479\n",
      "Valid loss at epoch 4: 0.6335716843605042\n"
     ]
    },
    {
     "name": "stderr",
     "output_type": "stream",
     "text": [
      " 60%|██████████████████████████▍                 | 6/10 [03:26<02:16, 34.06s/it]"
     ]
    },
    {
     "name": "stdout",
     "output_type": "stream",
     "text": [
      "Train loss at epoch 5: 0.6113669872283936\n",
      "Valid loss at epoch 5: 0.6165552139282227\n"
     ]
    },
    {
     "name": "stderr",
     "output_type": "stream",
     "text": [
      " 70%|██████████████████████████████▊             | 7/10 [03:59<01:40, 33.45s/it]"
     ]
    },
    {
     "name": "stdout",
     "output_type": "stream",
     "text": [
      "Train loss at epoch 6: 0.5974701245625814\n",
      "Valid loss at epoch 6: 0.5998827815055847\n"
     ]
    },
    {
     "name": "stderr",
     "output_type": "stream",
     "text": [
      " 80%|███████████████████████████████████▏        | 8/10 [04:32<01:06, 33.45s/it]"
     ]
    },
    {
     "name": "stdout",
     "output_type": "stream",
     "text": [
      "Train loss at epoch 7: 0.5838013291358948\n",
      "Valid loss at epoch 7: 0.583540141582489\n"
     ]
    },
    {
     "name": "stderr",
     "output_type": "stream",
     "text": [
      " 90%|███████████████████████████████████████▌    | 9/10 [05:06<00:33, 33.72s/it]"
     ]
    },
    {
     "name": "stdout",
     "output_type": "stream",
     "text": [
      "Train loss at epoch 8: 0.568905254205068\n",
      "Valid loss at epoch 8: 0.5675180554389954\n"
     ]
    },
    {
     "name": "stderr",
     "output_type": "stream",
     "text": [
      "100%|███████████████████████████████████████████| 10/10 [05:41<00:00, 34.11s/it]"
     ]
    },
    {
     "name": "stdout",
     "output_type": "stream",
     "text": [
      "Train loss at epoch 9: 0.5569898883501688\n",
      "Valid loss at epoch 9: 0.5518209338188171\n"
     ]
    },
    {
     "name": "stderr",
     "output_type": "stream",
     "text": [
      "\n"
     ]
    },
    {
     "data": {
      "image/png": "[encoded data removed]",
      "text/plain": [
       "<Figure size 640x480 with 1 Axes>"
      ]
     },
     "metadata": {},
     "output_type": "display_data"
    }
   ],
   "source": [
    "from tqdm import tqdm\n",
    "import matplotlib.pyplot as plt\n",
    "import torch\n",
    "import torch.nn as nn\n",
    "from torch.optim import Adam\n",
    "\n",
    "\n",
    "criterion = nn.MSELoss()\n",
    "optimizer = Adam(model.parameters())\n",
    "\n",
    "train_losses = []  # 保存每个周期的训练损失\n",
    "valid_losses = []  # 保存每个周期的验证损失\n",
    "for epoch in tqdm(range(10)):\n",
    "    # 训练阶段\n",
    "    model.train()  # 设置模型为训练模式\n",
    "    epoch_train_losses = []  # 保存每个批次的训练损失\n",
    "    for inputs, labels in train_dataloader:\n",
    "        # inputs和labels已经是正确的形状，不需要再次调整\n",
    "        # inputs = inputs.to(device)\n",
    "        # labels = labels.to(device)\n",
    "\n",
    "        optimizer.zero_grad()\n",
    "        output = model(inputs)  # 确保模型接受两个特征的输入\n",
    "        loss = criterion(output, labels)\n",
    "        loss.backward()\n",
    "        optimizer.step()\n",
    "\n",
    "        epoch_train_losses.append(loss.item())\n",
    "\n",
    "    epoch_train_loss = sum(epoch_train_losses) / len(epoch_train_losses)\n",
    "    train_losses.append(epoch_train_loss)\n",
    "\n",
    "    # 验证阶段\n",
    "    model.eval()  # 设置模型为评估模式\n",
    "    epoch_valid_losses = []\n",
    "    with torch.no_grad():\n",
    "        for inputs, labels in valid_dataloader:\n",
    "  \n",
    "            # inputs = inputs.to(device)\n",
    "            # labels = labels.to(device)\n",
    "\n",
    "            output = model(inputs)\n",
    "            loss = criterion(output, labels)\n",
    "            epoch_valid_losses.append(loss.item())\n",
    "\n",
    "    epoch_valid_loss = sum(epoch_valid_losses) / len(epoch_valid_losses)\n",
    "    valid_losses.append(epoch_valid_loss)\n",
    "\n",
    "    print(f\"Train loss at epoch {epoch}: {epoch_train_loss}\")\n",
    "    print(f\"Valid loss at epoch {epoch}: {epoch_valid_loss}\")\n",
    "\n",
    "# 绘制训练损失和验证损失\n",
    "plt.plot(train_losses, label='Train')\n",
    "plt.plot(valid_losses, label='Valid')\n",
    "plt.xlabel('Epoch')\n",
    "plt.ylabel('Loss')\n",
    "plt.title('Loss over time')\n",
    "plt.legend()\n",
    "plt.show()\n"
   ]
  },
  {
   "cell_type": "code",
   "execution_count": 6,
   "id": "ca8f2ffe-5970-4a25-8fc9-9ab816854d43",
   "metadata": {},
   "outputs": [
    {
     "data": {
      "text/plain": [
       "<All keys matched successfully>"
      ]
     },
     "execution_count": 6,
     "metadata": {},
     "output_type": "execute_result"
    }
   ],
   "source": [
    "torch.save(model.state_dict(), 'fydyc/10epoch-风力-多项式回归-2次.pth')\n",
    "degree = 2  # 二次多项式\n",
    "modeltest = PolynomialRegression(degree)\n",
    "# modeltest = nn.DataParallel(modeltest) \n",
    "modeltest.load_state_dict(torch.load('fydyc/10epoch-风力-多项式回归-2次.pth'))"
   ]
  },
  {
   "cell_type": "code",
   "execution_count": 17,
   "id": "23e839a9-1068-4689-9a96-96a310a13d9b",
   "metadata": {},
   "outputs": [
    {
     "name": "stdout",
     "output_type": "stream",
     "text": [
      "Prediction for input value tensor([[0.8000, 0.1000]]): -0.16311457753181458\n"
     ]
    }
   ],
   "source": [
    "modeltest.load_state_dict(torch.load('fydyc/10epoch-风力-多项式回归-2次.pth'))\n",
    "model.eval()\n",
    "\n",
    "# 假设我们有一些输入数据x，其中包含两个特征\n",
    "test_value = torch.tensor([[0.8, 0.1]])\n",
    "\n",
    "# 使用模型进行预测\n",
    "with torch.no_grad():  # 确保不计算梯度，以节省计算资源\n",
    "    prediction = model(test_value)\n",
    "\n",
    "print(f\"Prediction for input value {test_value}: {prediction.item()}\")"
   ]
  },
  {
   "cell_type": "code",
   "execution_count": 1,
   "id": "91df0227-4169-4077-94be-cca3ed507158",
   "metadata": {
    "tags": []
   },
   "outputs": [
    {
     "ename": "NameError",
     "evalue": "name 'dataset' is not defined",
     "output_type": "error",
     "traceback": [
      "\u001b[0;31m---------------------------------------------------------------------------\u001b[0m",
      "\u001b[0;31mNameError\u001b[0m                                 Traceback (most recent call last)",
      "Cell \u001b[0;32mIn[1], line 3\u001b[0m\n\u001b[1;32m      1\u001b[0m \u001b[38;5;28;01mimport\u001b[39;00m \u001b[38;5;21;01mnumpy\u001b[39;00m \u001b[38;5;28;01mas\u001b[39;00m \u001b[38;5;21;01mnp\u001b[39;00m\n\u001b[1;32m      2\u001b[0m real_value \u001b[38;5;241m=\u001b[39m np\u001b[38;5;241m.\u001b[39marray([[\u001b[38;5;241m0\u001b[39m,\u001b[38;5;241m1\u001b[39m]])  \u001b[38;5;66;03m# 假设你的预测值是10\u001b[39;00m\n\u001b[0;32m----> 3\u001b[0m normalized_value \u001b[38;5;241m=\u001b[39m \u001b[43mdataset\u001b[49m\u001b[38;5;241m.\u001b[39mscaler_features\u001b[38;5;241m.\u001b[39mtransform(real_value)\n\u001b[1;32m      4\u001b[0m input_tensor \u001b[38;5;241m=\u001b[39m torch\u001b[38;5;241m.\u001b[39mfrom_numpy(normalized_value)\u001b[38;5;241m.\u001b[39mfloat()\n\u001b[1;32m      5\u001b[0m input_tensor \u001b[38;5;241m=\u001b[39m input_tensor\u001b[38;5;241m.\u001b[39mview(\u001b[38;5;241m1\u001b[39m, \u001b[38;5;241m-\u001b[39m\u001b[38;5;241m1\u001b[39m)  \u001b[38;5;66;03m# 确保其形状与模型输入的形状相匹配\u001b[39;00m\n",
      "\u001b[0;31mNameError\u001b[0m: name 'dataset' is not defined"
     ]
    }
   ],
   "source": [
    "import numpy as np\n",
    "real_value = np.array([[0,1]])  # 假设你的预测值是10\n",
    "normalized_value = dataset.scaler_features.transform(real_value)\n",
    "input_tensor = torch.from_numpy(normalized_value).float()\n",
    "input_tensor = input_tensor.view(1, -1)  # 确保其形状与模型输入的形状相匹配\n",
    "model.eval()  # 将模型设置为评估模式\n",
    "with torch.no_grad():  # 不需要计算梯度\n",
    "    output_tensor = model(input_tensor)\n",
    "output_value = output_tensor.numpy()  # 将输出张量转换为 numpy 数组\n",
    "predicted_value = dataset.scaler_labels.inverse_transform(output_value)\n",
    "print(predicted_value)  # 打印预测值\n"
   ]
  }
 ],
 "metadata": {
  "kernelspec": {
   "display_name": "Python 3 (ipykernel)",
   "language": "python",
   "name": "python3"
  },
  "language_info": {
   "codemirror_mode": {
    "name": "ipython",
    "version": 3
   },
   "file_extension": ".py",
   "mimetype": "text/x-python",
   "name": "python",
   "nbconvert_exporter": "python",
   "pygments_lexer": "ipython3",
   "version": "3.12.4"
  }
 },
 "nbformat": 4,
 "nbformat_minor": 5
}
