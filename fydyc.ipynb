{
 "cells": [
  {
   "cell_type": "code",
   "execution_count": 1,
   "id": "f0154b52-2a18-49fa-b2f4-30de98e4b800",
   "metadata": {},
   "outputs": [],
   "source": [
    "import torch\n",
    "from torch.utils.data import Dataset, DataLoader\n",
    "from fydyc_dataset import FydycDataset\n",
    "import os\n",
    "\n",
    "dataset = FydycDataset(csv_file='fydyc/fydyc_real.csv')\n",
    "train_size = int(0.9 * len(dataset))\n",
    "valid_size = len(dataset) - train_size\n",
    "train_dataset, valid_dataset = torch.utils.data.random_split(dataset, [train_size, valid_size])\n",
    "train_dataloader = DataLoader(train_dataset, batch_size=10000, shuffle=True, num_workers=2)\n",
    "valid_dataloader = DataLoader(valid_dataset, batch_size=10000, shuffle=True, num_workers=2)"
   ]
  },
  {
   "cell_type": "code",
   "execution_count": 5,
   "id": "4290400f-6059-4d37-a745-d8d2f058b08a",
   "metadata": {},
   "outputs": [],
   "source": [
    "import torch.nn as nn\n",
    "import torch.nn.functional as F\n",
    "\n",
    "class PolynomialRegression(nn.Module):\n",
    "    def __init__(self, degree):\n",
    "        super(PolynomialRegression, self).__init__()\n",
    "        self.degree = degree\n",
    "        # 对于二次多项式，需要3个参数：x^2, x和常数项\n",
    "        self.linear = nn.Linear(degree + 1, 1)\n",
    "    \n",
    "    def forward(self, x):\n",
    "        # 生成多项式特征\n",
    "        poly_features = torch.cat([x ** i for i in range(self.degree + 1)], dim=1)\n",
    "        # 应用线性层\n",
    "        return self.linear(poly_features)\n",
    "\n",
    "# 使用模型\n",
    "degree = 2  # 二次多项式\n",
    "model = PolynomialRegression(degree)\n",
    "\n",
    "# 以下是模型的训练代码，这里只是为了完整性简单展示，并没有具体实现细节\n",
    "criterion = nn.MSELoss()\n",
    "# optimizer = torch.optim.SGD(model.parameters(), lr=0.01)"
   ]
  },
  {
   "cell_type": "code",
   "execution_count": 8,
   "id": "43f9fd56-9529-473a-af67-7adef44e1acf",
   "metadata": {},
   "outputs": [
    {
     "name": "stderr",
     "output_type": "stream",
     "text": [
      " 10%|████▍                                       | 1/10 [00:29<04:21, 29.01s/it]"
     ]
    },
    {
     "name": "stdout",
     "output_type": "stream",
     "text": [
      "Train loss at epoch 0: 0.410264290869236\n",
      "Valid loss at epoch 0: 0.40459397435188293\n"
     ]
    },
    {
     "name": "stderr",
     "output_type": "stream",
     "text": [
      " 20%|████████▊                                   | 2/10 [01:01<04:07, 30.98s/it]"
     ]
    },
    {
     "name": "stdout",
     "output_type": "stream",
     "text": [
      "Train loss at epoch 1: 0.39820633828639984\n",
      "Valid loss at epoch 1: 0.3920440971851349\n"
     ]
    },
    {
     "name": "stderr",
     "output_type": "stream",
     "text": [
      " 30%|█████████████▏                              | 3/10 [01:29<03:26, 29.52s/it]"
     ]
    },
    {
     "name": "stdout",
     "output_type": "stream",
     "text": [
      "Train loss at epoch 2: 0.3855902925133705\n",
      "Valid loss at epoch 2: 0.37976139783859253\n"
     ]
    },
    {
     "name": "stderr",
     "output_type": "stream",
     "text": [
      " 40%|█████████████████▌                          | 4/10 [01:57<02:53, 28.95s/it]"
     ]
    },
    {
     "name": "stdout",
     "output_type": "stream",
     "text": [
      "Train loss at epoch 3: 0.37203072756528854\n",
      "Valid loss at epoch 3: 0.3677590489387512\n"
     ]
    },
    {
     "name": "stderr",
     "output_type": "stream",
     "text": [
      " 50%|██████████████████████                      | 5/10 [02:26<02:25, 29.11s/it]"
     ]
    },
    {
     "name": "stdout",
     "output_type": "stream",
     "text": [
      "Train loss at epoch 4: 0.36130864173173904\n",
      "Valid loss at epoch 4: 0.3560490310192108\n"
     ]
    },
    {
     "name": "stderr",
     "output_type": "stream",
     "text": [
      " 60%|██████████████████████████▍                 | 6/10 [02:55<01:55, 28.97s/it]"
     ]
    },
    {
     "name": "stdout",
     "output_type": "stream",
     "text": [
      "Train loss at epoch 5: 0.3520766347646713\n",
      "Valid loss at epoch 5: 0.34463807940483093\n"
     ]
    },
    {
     "name": "stderr",
     "output_type": "stream",
     "text": [
      " 70%|██████████████████████████████▊             | 7/10 [03:23<01:26, 28.82s/it]"
     ]
    },
    {
     "name": "stdout",
     "output_type": "stream",
     "text": [
      "Train loss at epoch 6: 0.3402449041604996\n",
      "Valid loss at epoch 6: 0.3335229456424713\n"
     ]
    },
    {
     "name": "stderr",
     "output_type": "stream",
     "text": [
      " 80%|███████████████████████████████████▏        | 8/10 [03:52<00:57, 28.62s/it]"
     ]
    },
    {
     "name": "stdout",
     "output_type": "stream",
     "text": [
      "Train loss at epoch 7: 0.3291499763727188\n",
      "Valid loss at epoch 7: 0.32271263003349304\n"
     ]
    },
    {
     "name": "stderr",
     "output_type": "stream",
     "text": [
      " 90%|███████████████████████████████████████▌    | 9/10 [04:19<00:28, 28.39s/it]"
     ]
    },
    {
     "name": "stdout",
     "output_type": "stream",
     "text": [
      "Train loss at epoch 8: 0.317317433655262\n",
      "Valid loss at epoch 8: 0.3122096061706543\n"
     ]
    },
    {
     "name": "stderr",
     "output_type": "stream",
     "text": [
      "100%|███████████████████████████████████████████| 10/10 [04:48<00:00, 28.80s/it]"
     ]
    },
    {
     "name": "stdout",
     "output_type": "stream",
     "text": [
      "Train loss at epoch 9: 0.3051249235868454\n",
      "Valid loss at epoch 9: 0.3020208775997162\n"
     ]
    },
    {
     "name": "stderr",
     "output_type": "stream",
     "text": [
      "\n"
     ]
    },
    {
     "data": {
      "image/png": "[encoded data removed]",
      "text/plain": [
       "<Figure size 640x480 with 1 Axes>"
      ]
     },
     "metadata": {},
     "output_type": "display_data"
    }
   ],
   "source": [
    "from tqdm import tqdm\n",
    "import matplotlib.pyplot as plt\n",
    "# model.to('cuda')\n",
    "# device = torch.device(\"cuda:0\")\n",
    "# model = model.to(device)\n",
    "# model = nn.DataParallel(model)  \n",
    "\n",
    "# model.load_state_dict(torch.load('fydyc/model40.pth'))\n",
    "# criterion = nn.MSELoss()\n",
    "optimizer = torch.optim.Adam(model.parameters())\n",
    "\n",
    "train_losses = []  # 保存每个周期的训练损失\n",
    "valid_losses = []  # 保存每个周期的验证损失\n",
    "for epoch in tqdm(range(10)):\n",
    "    # 训练阶段\n",
    "    epoch_train_losses = []  # 保存每个批次的训练损失\n",
    "    for data in train_dataloader:\n",
    "        inputs, labels = data\n",
    "        # inputs= inputs.to(device)\n",
    "        # labels= labels.to(device)\n",
    "        inputs = inputs.view(-1, 1)\n",
    "        labels = labels.view(-1, 1)\n",
    "        output = model(inputs)\n",
    "\n",
    "        loss = criterion(output, labels)\n",
    "        epoch_train_losses.append(loss.item())  # 保存每个批次的训练损失\n",
    "\n",
    "        # 反向传播和优化\n",
    "        optimizer.zero_grad()\n",
    "        loss.backward()\n",
    "        optimizer.step()\n",
    "\n",
    "    epoch_train_loss = sum(epoch_train_losses) / len(epoch_train_losses)  # 计算每个周期的平均训练损失\n",
    "    train_losses.append(epoch_train_loss)  # 保存每个周期的训练损失\n",
    "\n",
    "    # 验证阶段\n",
    "    epoch_valid_losses = []  # 保存每个批次的验证损失\n",
    "    with torch.no_grad():  # 不需要计算梯度\n",
    "        for data in valid_dataloader:\n",
    "            inputs, labels = data\n",
    "            # inputs= inputs.to(device)\n",
    "            # labels= labels.to(device)\n",
    "            inputs = inputs.view(-1, 1)\n",
    "            labels = labels.view(-1, 1)\n",
    "            output = model(inputs)\n",
    "\n",
    "            loss = criterion(output, labels)\n",
    "            epoch_valid_losses.append(loss.item())  # 保存每个批次的验证损失\n",
    "\n",
    "    epoch_valid_loss = sum(epoch_valid_losses) / len(epoch_valid_losses)  # 计算每个周期的平均验证损失\n",
    "    valid_losses.append(epoch_valid_loss)  # 保存每个周期的验证损失\n",
    "\n",
    "    \n",
    "    print(f\"Train loss at epoch {epoch}: {epoch_train_loss}\")\n",
    "    print(f\"Valid loss at epoch {epoch}: {epoch_valid_loss}\")\n",
    "\n",
    "# 绘制训练损失和验证损失\n",
    "plt.plot(train_losses, label='Train')\n",
    "plt.plot(valid_losses, label='Valid')\n",
    "plt.xlabel('Epoch')\n",
    "plt.ylabel('Loss')\n",
    "plt.title('Loss over time')\n",
    "plt.legend()\n",
    "plt.show()\n"
   ]
  },
  {
   "cell_type": "code",
   "execution_count": 10,
   "id": "ca8f2ffe-5970-4a25-8fc9-9ab816854d43",
   "metadata": {},
   "outputs": [
    {
     "data": {
      "text/plain": [
       "<All keys matched successfully>"
      ]
     },
     "execution_count": 10,
     "metadata": {},
     "output_type": "execute_result"
    }
   ],
   "source": [
    "torch.save(model.state_dict(), 'fydyc/model44test.pth')\n",
    "degree = 2  # 二次多项式\n",
    "modeltest = PolynomialRegression(degree)\n",
    "# modeltest = nn.DataParallel(modeltest) \n",
    "modeltest.load_state_dict(torch.load('fydyc/model44test.pth'))"
   ]
  },
  {
   "cell_type": "code",
   "execution_count": 11,
   "id": "23e839a9-1068-4689-9a96-96a310a13d9b",
   "metadata": {},
   "outputs": [
    {
     "name": "stdout",
     "output_type": "stream",
     "text": [
      "Prediction for input value 0.8: 0.2552923560142517\n"
     ]
    }
   ],
   "source": [
    "modeltest.load_state_dict(torch.load('fydyc/model44test.pth'))\n",
    "model.eval()\n",
    "\n",
    "# 测试值\n",
    "test_value = 0.8\n",
    "# 将测试值转换为二维Tensor，以匹配模型的期望输入格式\n",
    "test_tensor = torch.tensor([[test_value]], dtype=torch.float32)\n",
    "\n",
    "# 使用模型进行预测\n",
    "with torch.no_grad():  # 确保不计算梯度，以节省计算资源\n",
    "    prediction = model(test_tensor)\n",
    "\n",
    "print(f\"Prediction for input value {test_value}: {prediction.item()}\")"
   ]
  },
  {
   "cell_type": "code",
   "execution_count": 12,
   "id": "91df0227-4169-4077-94be-cca3ed507158",
   "metadata": {
    "tags": []
   },
   "outputs": [
    {
     "name": "stdout",
     "output_type": "stream",
     "text": [
      "[[12093.167]]\n"
     ]
    }
   ],
   "source": [
    "import numpy as np\n",
    "real_value = np.array([[11436]])  # 假设你的预测值是10\n",
    "normalized_value = dataset.scaler_features.transform(real_value)\n",
    "input_tensor = torch.from_numpy(normalized_value).float()\n",
    "input_tensor = input_tensor.view(1, -1)  # 确保其形状与模型输入的形状相匹配\n",
    "model.eval()  # 将模型设置为评估模式\n",
    "with torch.no_grad():  # 不需要计算梯度\n",
    "    output_tensor = model(input_tensor)\n",
    "output_value = output_tensor.numpy()  # 将输出张量转换为 numpy 数组\n",
    "predicted_value = dataset.scaler_labels.inverse_transform(output_value)\n",
    "print(predicted_value)  # 打印预测值\n"
   ]
  }
 ],
 "metadata": {
  "kernelspec": {
   "display_name": "Python 3 (ipykernel)",
   "language": "python",
   "name": "python3"
  },
  "language_info": {
   "codemirror_mode": {
    "name": "ipython",
    "version": 3
   },
   "file_extension": ".py",
   "mimetype": "text/x-python",
   "name": "python",
   "nbconvert_exporter": "python",
   "pygments_lexer": "ipython3",
   "version": "3.10.13"
  }
 },
 "nbformat": 4,
 "nbformat_minor": 5
}
