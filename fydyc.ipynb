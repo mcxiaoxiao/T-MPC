{
 "cells": [
  {
   "cell_type": "code",
   "execution_count": 1,
   "id": "f0154b52-2a18-49fa-b2f4-30de98e4b800",
   "metadata": {},
   "outputs": [],
   "source": [
    "import torch\n",
    "from torch.utils.data import Dataset, DataLoader\n",
    "from fydyc_dataset import FydycDataset\n",
    "import os\n",
    "\n",
    "\n",
    "\n",
    "dataset = FydycDataset(csv_file='fydyc/fydyc_real.csv')\n",
    "train_size = int(0.9 * len(dataset))\n",
    "valid_size = len(dataset) - train_size\n",
    "train_dataset, valid_dataset = torch.utils.data.random_split(dataset, [train_size, valid_size])\n",
    "train_dataloader = DataLoader(train_dataset, batch_size=1000, shuffle=True, num_workers=2)\n",
    "valid_dataloader = DataLoader(valid_dataset, batch_size=1000, shuffle=True, num_workers=2)"
   ]
  },
  {
   "cell_type": "code",
   "execution_count": 2,
   "id": "4290400f-6059-4d37-a745-d8d2f058b08a",
   "metadata": {},
   "outputs": [],
   "source": [
    "import torch.nn as nn\n",
    "\n",
    "class MLP(nn.Module):\n",
    "   \n",
    "    def __init__(self, hidden_size):\n",
    "        super(MLP, self).__init__()\n",
    "        self.hidden = nn.Linear(1, hidden_size)\n",
    "        self.relu = nn.ReLU()\n",
    "        self.output = nn.Linear(hidden_size, 1)\n",
    "\n",
    "    def forward(self, x):\n",
    "        x = self.hidden(x)\n",
    "        x = self.relu(x)\n",
    "        x = self.output(x)\n",
    "        return x\n"
   ]
  },
  {
   "cell_type": "code",
   "execution_count": 3,
   "id": "43f9fd56-9529-473a-af67-7adef44e1acf",
   "metadata": {},
   "outputs": [
    {
     "name": "stderr",
     "output_type": "stream",
     "text": [
      "100%|██████████████████████████████████████████████████████████████| 10/10 [07:39<00:00, 45.90s/it]\n"
     ]
    },
    {
     "data": {
      "image/png": "[encoded data removed]",
      "text/plain": [
       "<Figure size 640x480 with 1 Axes>"
      ]
     },
     "metadata": {},
     "output_type": "display_data"
    }
   ],
   "source": [
    "from tqdm import tqdm\n",
    "import matplotlib.pyplot as plt\n",
    "\n",
    "model = MLP(hidden_size=10)\n",
    "criterion = nn.MSELoss()\n",
    "optimizer = torch.optim.Adam(model.parameters())\n",
    "\n",
    "train_losses = []  # 保存每个周期的训练损失\n",
    "valid_losses = []  # 保存每个周期的验证损失\n",
    "for epoch in tqdm(range(10)):\n",
    "    # 训练阶段\n",
    "    epoch_train_losses = []  # 保存每个批次的训练损失\n",
    "    for data in train_dataloader:\n",
    "        inputs, labels = data\n",
    "        inputs = inputs.view(-1, 1)\n",
    "        labels = labels.view(-1, 1)\n",
    "        output = model(inputs)\n",
    "\n",
    "        loss = criterion(output, labels)\n",
    "        epoch_train_losses.append(loss.item())  # 保存每个批次的训练损失\n",
    "\n",
    "        # 反向传播和优化\n",
    "        optimizer.zero_grad()\n",
    "        loss.backward()\n",
    "        optimizer.step()\n",
    "\n",
    "    epoch_train_loss = sum(epoch_train_losses) / len(epoch_train_losses)  # 计算每个周期的平均训练损失\n",
    "    train_losses.append(epoch_train_loss)  # 保存每个周期的训练损失\n",
    "\n",
    "    # 验证阶段\n",
    "    epoch_valid_losses = []  # 保存每个批次的验证损失\n",
    "    with torch.no_grad():  # 不需要计算梯度\n",
    "        for data in valid_dataloader:\n",
    "            inputs, labels = data\n",
    "            inputs = inputs.view(-1, 1)\n",
    "            labels = labels.view(-1, 1)\n",
    "            output = model(inputs)\n",
    "\n",
    "            loss = criterion(output, labels)\n",
    "            epoch_valid_losses.append(loss.item())  # 保存每个批次的验证损失\n",
    "\n",
    "    epoch_valid_loss = sum(epoch_valid_losses) / len(epoch_valid_losses)  # 计算每个周期的平均验证损失\n",
    "    valid_losses.append(epoch_valid_loss)  # 保存每个周期的验证损失\n",
    "\n",
    "    if epoch+1 % 10 == 0:  # 每10个周期打印一次损失\n",
    "        print(f\"Train loss at epoch {epoch}: {epoch_train_loss}\")\n",
    "        print(f\"Valid loss at epoch {epoch}: {epoch_valid_loss}\")\n",
    "\n",
    "# 绘制训练损失和验证损失\n",
    "plt.plot(train_losses, label='Train')\n",
    "plt.plot(valid_losses, label='Valid')\n",
    "plt.xlabel('Epoch')\n",
    "plt.ylabel('Loss')\n",
    "plt.title('Loss over time')\n",
    "plt.legend()\n",
    "plt.show()\n"
   ]
  },
  {
   "cell_type": "code",
   "execution_count": 4,
   "id": "ca8f2ffe-5970-4a25-8fc9-9ab816854d43",
   "metadata": {},
   "outputs": [
    {
     "data": {
      "text/plain": [
       "<All keys matched successfully>"
      ]
     },
     "execution_count": 4,
     "metadata": {},
     "output_type": "execute_result"
    }
   ],
   "source": [
    "torch.save(model.state_dict(), 'fydyc/model.pth')\n",
    "modeltest = MLP(hidden_size=10)\n",
    "modeltest.load_state_dict(torch.load('fydyc/model.pth'))"
   ]
  },
  {
   "cell_type": "code",
   "execution_count": 5,
   "id": "23e839a9-1068-4689-9a96-96a310a13d9b",
   "metadata": {},
   "outputs": [
    {
     "data": {
      "text/plain": [
       "tensor([0.4187], grad_fn=<ViewBackward0>)"
      ]
     },
     "execution_count": 5,
     "metadata": {},
     "output_type": "execute_result"
    }
   ],
   "source": [
    "modeltest(torch.tensor([0.6]))"
   ]
  },
  {
   "cell_type": "code",
   "execution_count": 9,
   "id": "91df0227-4169-4077-94be-cca3ed507158",
   "metadata": {},
   "outputs": [
    {
     "name": "stdout",
     "output_type": "stream",
     "text": [
      "[[14452.1]]\n"
     ]
    }
   ],
   "source": [
    "import numpy as np\n",
    "\n",
    "real_value = np.array([[19900]])  # 假设你的真实值是10\n",
    "normalized_value = dataset.scaler_features.transform(real_value)\n",
    "input_tensor = torch.from_numpy(normalized_value).float()\n",
    "input_tensor = input_tensor.view(1, -1)  # 确保其形状与模型输入的形状相匹配\n",
    "model.eval()  # 将模型设置为评估模式\n",
    "with torch.no_grad():  # 不需要计算梯度\n",
    "    output_tensor = model(input_tensor)\n",
    "output_value = output_tensor.numpy()  # 将输出张量转换为 numpy 数组\n",
    "predicted_value = dataset.scaler_labels.inverse_transform(output_value)\n",
    "print(predicted_value)  # 打印预测值\n"
   ]
  }
 ],
 "metadata": {
  "kernelspec": {
   "display_name": "Python 3 (ipykernel)",
   "language": "python",
   "name": "python3"
  },
  "language_info": {
   "codemirror_mode": {
    "name": "ipython",
    "version": 3
   },
   "file_extension": ".py",
   "mimetype": "text/x-python",
   "name": "python",
   "nbconvert_exporter": "python",
   "pygments_lexer": "ipython3",
   "version": "3.10.13"
  }
 },
 "nbformat": 4,
 "nbformat_minor": 5
}
