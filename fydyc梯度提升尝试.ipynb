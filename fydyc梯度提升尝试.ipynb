{
 "cells": [
  {
   "cell_type": "code",
   "execution_count": 11,
   "id": "940d78e0-edfd-479e-86bb-49a7b247c503",
   "metadata": {
    "tags": []
   },
   "outputs": [
    {
     "name": "stderr",
     "output_type": "stream",
     "text": [
      "/Users/mac1234/anaconda3/envs/sql/lib/python3.10/site-packages/sklearn/ensemble/_gb.py:668: DataConversionWarning: A column-vector y was passed when a 1d array was expected. Please change the shape of y to (n_samples, ), for example using ravel().\n",
      "  y = column_or_1d(y, warn=True)  # TODO: Is this still required?\n"
     ]
    },
    {
     "name": "stdout",
     "output_type": "stream",
     "text": [
      "      Iter       Train Loss   Remaining Time \n",
      "         1           0.0430            0.36s\n",
      "         2           0.0361            0.31s\n",
      "         3           0.0305            0.26s\n",
      "         4           0.0259            0.20s\n",
      "         5           0.0221            0.16s\n",
      "         6           0.0188            0.11s\n",
      "         7           0.0162            0.05s\n",
      "         8           0.0140            0.00s\n",
      "输入特征:\n",
      "[[2 3]\n",
      " [6 7]]\n",
      "预测值:\n",
      "[0.51594867 0.51594867]\n"
     ]
    }
   ],
   "source": [
    "import torch\n",
    "from torch.utils.data import Dataset, DataLoader\n",
    "from fydyc_dataset import FydycDataset\n",
    "import numpy as np\n",
    "from sklearn.ensemble import GradientBoostingRegressor\n",
    "\n",
    "\n",
    "# 加载数据并划分训练集和验证集\n",
    "dataset = FydycDataset(csv_file='fydyc/风力_train.csv')\n",
    "train_size = int(0.9 * len(dataset))\n",
    "valid_size = len(dataset) - train_size\n",
    "train_dataset, valid_dataset = torch.utils.data.random_split(dataset, [train_size, valid_size])\n",
    "\n",
    "# 创建数据加载器\n",
    "train_dataloader = DataLoader(train_dataset, batch_size=100000, shuffle=True, num_workers=2)\n",
    "valid_dataloader = DataLoader(valid_dataset, batch_size=100000, shuffle=True, num_workers=2)\n",
    "\n",
    "# 创建梯度提升回归模型\n",
    "gbr = GradientBoostingRegressor(max_depth=20, n_estimators=8, verbose=10)\n",
    "\n",
    "# 训练模型并打印训练进度\n",
    "for X_batch, y_batch in train_dataloader:\n",
    "    gbr.fit(X_batch.numpy(), y_batch.numpy())\n",
    "\n",
    "# 进行预测\n",
    "X_new = np.array([[2, 3], [6, 7]])\n",
    "y_pred = gbr.predict(X_new)\n",
    "\n",
    "print(\"输入特征:\")\n",
    "print(X_new)\n",
    "print(\"预测值:\")\n",
    "print(y_pred)\n",
    "\n"
   ]
  },
  {
   "cell_type": "code",
   "execution_count": 12,
   "id": "5f42f0c4-18bd-49fb-b61d-3ec53b1c185c",
   "metadata": {
    "tags": []
   },
   "outputs": [
    {
     "data": {
      "text/plain": [
       "['fydyc/梯度提升20*8.pkl']"
      ]
     },
     "execution_count": 12,
     "metadata": {},
     "output_type": "execute_result"
    }
   ],
   "source": [
    "import joblib\n",
    "from sklearn.ensemble import GradientBoostingRegressor\n",
    "# 保存模型\n",
    "joblib.dump(gbr, 'fydyc/梯度提升20*8.pkl')"
   ]
  }
 ],
 "metadata": {
  "kernelspec": {
   "display_name": "Python 3 (ipykernel)",
   "language": "python",
   "name": "python3"
  },
  "language_info": {
   "codemirror_mode": {
    "name": "ipython",
    "version": 3
   },
   "file_extension": ".py",
   "mimetype": "text/x-python",
   "name": "python",
   "nbconvert_exporter": "python",
   "pygments_lexer": "ipython3",
   "version": "3.12.4"
  }
 },
 "nbformat": 4,
 "nbformat_minor": 5
}
