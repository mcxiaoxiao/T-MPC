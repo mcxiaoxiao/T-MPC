{
 "cells": [
  {
   "cell_type": "code",
   "execution_count": 55,
   "id": "2be647ef-2495-42ee-afbc-51433fe3c535",
   "metadata": {},
   "outputs": [
    {
     "name": "stdout",
     "output_type": "stream",
     "text": [
      "Epoch 1, Loss: 81.85920715332031\n",
      "Epoch 101, Loss: 2.194812536239624\n",
      "Epoch 201, Loss: 1.6986559629440308\n",
      "Epoch 301, Loss: 1.8004486560821533\n",
      "Epoch 401, Loss: 1.9115245342254639\n",
      "Epoch 501, Loss: 1.3811947107315063\n",
      "Epoch 601, Loss: 1.7475210428237915\n",
      "Epoch 701, Loss: 1.6845420598983765\n",
      "Epoch 801, Loss: 1.6634337902069092\n",
      "Epoch 901, Loss: 1.4649217128753662\n"
     ]
    },
    {
     "data": {
      "image/png": "[encoded data removed]",
      "text/plain": [
       "<Figure size 640x480 with 1 Axes>"
      ]
     },
     "metadata": {},
     "output_type": "display_data"
    }
   ],
   "source": [
    "import torch\n",
    "import torch.nn as nn\n",
    "import torch.optim as optim\n",
    "import matplotlib.pyplot as plt\n",
    "from torchviz import make_dot\n",
    "\n",
    "# 定义一个多项式函数\n",
    "class PolynomialModel(nn.Module):\n",
    "    def __init__(self, degree):\n",
    "        super(PolynomialModel, self).__init__()\n",
    "        self.degree = degree\n",
    "        self.layers = nn.ModuleList([nn.Linear(1, 1, bias=False) for _ in range(degree + 1)])\n",
    "\n",
    "    def forward(self, x):\n",
    "        # 计算多项式\n",
    "        out = torch.zeros_like(x)\n",
    "        for i, layer in enumerate(self.layers):\n",
    "            out += layer(x) * x**i\n",
    "        return out\n",
    "\n",
    "# 初始化模型\n",
    "degree = 3  # 多项式的最高次数\n",
    "model = PolynomialModel(degree)\n",
    "\n",
    "# 定义损失函数和优化器\n",
    "criterion = nn.MSELoss()\n",
    "optimizer = optim.SGD(model.parameters(), lr=0.01)\n",
    "\n",
    "# 生成一些随机数据来模拟x和y的关系\n",
    "x_data = torch.randn(100, 1)  # 生成100个随机样本\n",
    "y_data = torch.cat([x_data**i for i in range(degree + 1)], 1).sum(1, keepdim=True)  # 计算y的理论值\n",
    "\n",
    "# 添加随机噪声来模拟真实数据\n",
    "y_data += torch.randn_like(y_data) * 0.1  # 假设噪声是均值为0，标准差为0.1的正态分布\n",
    "\n",
    "# 训练模型\n",
    "for epoch in range(1000):\n",
    "    optimizer.zero_grad()\n",
    "    # 生成随时间变化的随机变量 τ(t)\n",
    "    tau = torch.randn_like(x_data)  # 假设 x_data 已经被定义，并且具有正确的时间维度\n",
    "    \n",
    "    # 计算模型的输出\n",
    "    y_pred = model(x_data) + tau  # 将随机变量添加到模型的输出中\n",
    "    loss = criterion(y_pred, y_data)\n",
    "    loss.backward()\n",
    "    optimizer.step()\n",
    "\n",
    "    if epoch % 100 == 0:\n",
    "        print(f'Epoch {epoch+1}, Loss: {loss.item()}')\n",
    "\n",
    "# 可视化模型\n",
    "x_test = torch.linspace(-3, 3, 100).unsqueeze(1)  # 创建一个测试集\n",
    "y_pred = model(x_test)\n",
    "\n",
    "plt.scatter(x_data.numpy(), y_data.numpy(), color='blue', label='Data Points')\n",
    "plt.plot(x_test.numpy(), y_pred.detach().numpy(), color='red', label='Polynomial Fit')\n",
    "plt.legend()\n",
    "plt.show()"
   ]
  },
  {
   "cell_type": "code",
   "execution_count": 44,
   "id": "5c0aec48-fc21-4384-b918-6e94ccc3fff7",
   "metadata": {},
   "outputs": [
    {
     "name": "stdout",
     "output_type": "stream",
     "text": [
      "Epoch 100, Loss: 1.6754399538040161\n",
      "Epoch 200, Loss: 1.626210331916809\n",
      "Epoch 300, Loss: 1.8653616905212402\n",
      "Epoch 400, Loss: 1.9050227403640747\n",
      "Epoch 500, Loss: 1.4701248407363892\n",
      "Epoch 600, Loss: 1.7123156785964966\n",
      "Epoch 700, Loss: 1.4674346446990967\n",
      "Epoch 800, Loss: 1.4330554008483887\n",
      "Epoch 900, Loss: 1.5558315515518188\n",
      "Epoch 1000, Loss: 1.8983081579208374\n"
     ]
    }
   ],
   "source": [
    "import torch\n",
    "import torch.nn as nn\n",
    "import torch.optim as optim\n",
    "\n",
    "# 定义一个多项式函数\n",
    "class PolynomialModel(nn.Module):\n",
    "    def __init__(self, degree):\n",
    "        super(PolynomialModel, self).__init__()\n",
    "        self.degree = degree\n",
    "        self.layers = nn.ModuleList([nn.Linear(1, 1, bias=False) for _ in range(degree + 1)])\n",
    "\n",
    "    def forward(self, x):\n",
    "        # 计算多项式\n",
    "        out = torch.zeros_like(x)\n",
    "        for i, layer in enumerate(self.layers):\n",
    "            out += layer(x) * x**i\n",
    "        return out\n",
    "\n",
    "# 初始化模型\n",
    "degree = 3  # 多项式的最高次数\n",
    "model = PolynomialModel(degree)\n",
    "\n",
    "# 定义损失函数和优化器\n",
    "criterion = nn.MSELoss()\n",
    "optimizer = optim.SGD(model.parameters(), lr=0.01)\n",
    "\n",
    "# 训练模型\n",
    "num_epochs = 1000\n",
    "for epoch in range(num_epochs):\n",
    "    optimizer.zero_grad()\n",
    "    \n",
    "    # 生成随时间变化的随机变量 τ(t)\n",
    "    tau = torch.randn_like(x_data)  # 假设 x_data 已经被定义，并且具有正确的时间维度\n",
    "    \n",
    "    # 计算模型的输出\n",
    "    y_pred = model(x_data) + tau  # 将随机变量添加到模型的输出中\n",
    "    \n",
    "    # 计算损失\n",
    "    loss = criterion(y_pred, y_data)\n",
    "    \n",
    "    # 反向传播和优化\n",
    "    loss.backward()\n",
    "    optimizer.step()\n",
    "    \n",
    "    if (epoch + 1) % 100 == 0:\n",
    "        print(f'Epoch {epoch+1}, Loss: {loss.item()}')\n"
   ]
  }
 ],
 "metadata": {
  "kernelspec": {
   "display_name": "Python 3 (ipykernel)",
   "language": "python",
   "name": "python3"
  },
  "language_info": {
   "codemirror_mode": {
    "name": "ipython",
    "version": 3
   },
   "file_extension": ".py",
   "mimetype": "text/x-python",
   "name": "python",
   "nbconvert_exporter": "python",
   "pygments_lexer": "ipython3",
   "version": "3.10.13"
  }
 },
 "nbformat": 4,
 "nbformat_minor": 5
}
